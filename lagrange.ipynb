{
 "cells": [
  {
   "cell_type": "code",
   "execution_count": 344,
   "metadata": {
    "ExecuteTime": {
     "end_time": "2018-12-01T06:55:56.039499Z",
     "start_time": "2018-12-01T06:55:56.030393Z"
    }
   },
   "outputs": [],
   "source": [
    "import numpy as np\n",
    "from numpy import sin, cos, multiply, transpose, cross, dot\n",
    "from sympy.physics.vector import dynamicsymbols\n",
    "from sympy import *\n",
    "init_printing(pretty_print=True)\n",
    "\n",
    "# Symbol Declaration\n",
    "## Theta\n",
    "t = Symbol('t')\n",
    "t_1 = Function('theta_1')(t)\n",
    "t_2 = Function('theta_2')(t)\n",
    "d_3 = Function('d_3')(t)\n",
    "t_4 = Function('theta_4')(t)\n",
    "\n",
    "## Constant\n",
    "r_1, r_2, r_3, r_4 = symbols('r_1 r_2 r_3 r_4')\n",
    "d_1, d_2 = symbols('d_1 d_2')\n",
    "a_1, a_2, a_3 = symbols('a_1 a_2 a_3')\n",
    "I_xx1, I_yy1, I_zz1 = symbols('I_xx1 I_yy1 I_zz1')\n",
    "I_xx2, I_yy2, I_zz2 = symbols('I_xx2 I_yy2 I_zz2')\n",
    "I_xx3, I_yy3, I_zz3 = symbols('I_xx3 I_yy3 I_zz3')\n",
    "m_1, m_2, m_3, m_4 = symbols('m_1, m_2, m_3, m_4')\n",
    "\n",
    "## Gravity\n",
    "g = symbols('g')\n"
   ]
  },
  {
   "cell_type": "markdown",
   "metadata": {},
   "source": [
    "## Special Case"
   ]
  },
  {
   "cell_type": "code",
   "execution_count": 345,
   "metadata": {
    "ExecuteTime": {
     "end_time": "2018-12-01T06:55:57.511253Z",
     "start_time": "2018-12-01T06:55:57.507783Z"
    }
   },
   "outputs": [],
   "source": [
    "z_q = (np.array([0, 0, 1])).reshape((3, 1))\n",
    "x_q = (np.array([1, 0, 0])).reshape((3, 1))\n",
    "o_q = (np.array([0, 0, 0])).reshape((3, 1))"
   ]
  },
  {
   "cell_type": "markdown",
   "metadata": {
    "ExecuteTime": {
     "end_time": "2018-11-29T07:00:09.397036Z",
     "start_time": "2018-11-29T07:00:09.159326Z"
    }
   },
   "source": [
    "## P and Pc Parameter"
   ]
  },
  {
   "cell_type": "markdown",
   "metadata": {},
   "source": [
    "### P"
   ]
  },
  {
   "cell_type": "code",
   "execution_count": 346,
   "metadata": {
    "ExecuteTime": {
     "end_time": "2018-12-01T06:55:59.229109Z",
     "start_time": "2018-12-01T06:55:59.224570Z"
    }
   },
   "outputs": [],
   "source": [
    "P_01 = np.array([0 ,0, d_1]).reshape(3, -1)\n",
    "P_12 = np.array([a_1,0, d_2]).reshape(3, -1)\n",
    "P_23 = np.array([a_2, 0, d_3]).reshape(3, -1)\n",
    "P_34 = o_q"
   ]
  },
  {
   "cell_type": "markdown",
   "metadata": {},
   "source": [
    "### Pc"
   ]
  },
  {
   "cell_type": "code",
   "execution_count": 347,
   "metadata": {
    "ExecuteTime": {
     "end_time": "2018-12-01T06:56:00.485377Z",
     "start_time": "2018-12-01T06:56:00.481999Z"
    }
   },
   "outputs": [],
   "source": [
    "P_1c = r_1*x_q\n",
    "P_2c = r_2*x_q\n",
    "P_3c = r_3*z_q\n",
    "P_4c = o_q"
   ]
  },
  {
   "cell_type": "markdown",
   "metadata": {
    "ExecuteTime": {
     "end_time": "2018-11-29T07:09:01.608165Z",
     "start_time": "2018-11-29T07:09:01.603196Z"
    }
   },
   "source": [
    "## Joint Handler"
   ]
  },
  {
   "cell_type": "code",
   "execution_count": 348,
   "metadata": {
    "ExecuteTime": {
     "end_time": "2018-12-01T06:56:01.190899Z",
     "start_time": "2018-12-01T06:56:01.182482Z"
    }
   },
   "outputs": [],
   "source": [
    "def R(theta):  # R n+1 -> n\n",
    "    return np.array([\n",
    "        [cos(theta), -sin(theta), 0],\n",
    "        [sin(theta), cos(theta),  0],\n",
    "        [0,          0,           1]\n",
    "    ])"
   ]
  },
  {
   "cell_type": "code",
   "execution_count": 349,
   "metadata": {
    "ExecuteTime": {
     "end_time": "2018-12-01T06:56:02.757049Z",
     "start_time": "2018-12-01T06:56:02.745198Z"
    }
   },
   "outputs": [],
   "source": [
    "class jointHandler():\n",
    "    \n",
    "    def __init__(self,_P, _Pc, _m, _r, _t, _w, I_, _d, _v, _ROT, _Pot):\n",
    "        self.P = _P\n",
    "        self.P_c = _Pc\n",
    "        self.m = _m\n",
    "        self.R = R(_t)\n",
    "        self.r = _r\n",
    "        self.w = _w\n",
    "        self.td = diff(_t)\n",
    "        self.I = I_\n",
    "        self.d_dot = diff(_d)\n",
    "        self.v = _v\n",
    "        self.ROT = _ROT\n",
    "        self.Pot = _Pot - _P[2]+ _Pc[2]\n",
    "    \n",
    "    def getI(self):\n",
    "        I = self.I\n",
    "        return np.array([\n",
    "                [I[0], 0, 0],\n",
    "                [0, I[1], 0],\n",
    "                [0, 0,  I[2]]\n",
    "                ])\n",
    "    \n",
    "    def getRotation_w(self):                          # current\n",
    "        R = self.R.T\n",
    "        return dot(R, self.w) + self.td*z_q\n",
    "    \n",
    "    def getVelocity(self):  # Ri_i-1 (wxp + ^{i-1}v_{i-1}) + ddot \n",
    "        a = self.v + cross(self.w,self.P, axis=0)\n",
    "        v1 = dot(self.R.T, a) #+ self.d_dot\n",
    "        return v1\n",
    "    \n",
    "    def getVelocityOfCOM(self, world=True):\n",
    "        w = self.getRotation_w()\n",
    "        v = cross(w, self.P_c, axis=0) + self.getVelocity()  # current w plus v-1 + v\n",
    "        if world is True :\n",
    "            v_world = dot(self.ROT, v)\n",
    "            return v_world\n",
    "        else :\n",
    "            return w + v\n",
    "    \n",
    "    def getKinectEnergy(self):\n",
    "        d_dot = self.d_dot * z_q\n",
    "        m = self.m\n",
    "        w = self.getRotation_w()\n",
    "        v = self.getVelocityOfCOM(world=True)\n",
    "        I = self.getI()\n",
    "        \n",
    "        if d_dot is not 0:\n",
    "            T2 = 1/2*m*dot(d_dot.T, d_dot)\n",
    "        else:\n",
    "            T2 = 0\n",
    "        T = 1/2*m*dot(v.T, v)\n",
    "        M = 1/2*dot(w.T, dot(I, w))\n",
    "        return T + M + T2\n",
    "    \n",
    "    def getPotential(self):\n",
    "        return self.m * self.Pot"
   ]
  },
  {
   "cell_type": "code",
   "execution_count": 350,
   "metadata": {
    "ExecuteTime": {
     "end_time": "2018-12-01T06:56:04.214753Z",
     "start_time": "2018-12-01T06:56:04.184394Z"
    }
   },
   "outputs": [],
   "source": [
    "# _P, _Pc, _m, _r, _t, \n",
    "    #_w, I_, _d, _v, _ROT):\n",
    "link1 = jointHandler(P_01, P_1c, m_1, r_1, t_1, \n",
    "                     o_q, [I_xx1, I_yy1, I_zz1], 0, 0, R(t_1), 0)\n",
    "\n",
    "link2 = jointHandler(P_12, P_2c, m_2, r_2, t_2, \n",
    "                     link1.getRotation_w(), [I_xx2, I_yy2, I_zz2], 0, \n",
    "                     link1.getVelocity(), dot(R(t_1), R(t_2)), link1.Pot)\n",
    "\n",
    "# theta_3 = 0\n",
    "link3 = jointHandler(P_23, P_3c, m_3, r_3, 0,    \n",
    "                     link2.getRotation_w(), [I_xx3, I_yy3, I_zz3], d_3,\n",
    "                     link2.getVelocity(), dot(dot(R(t_1), R(t_2)), R(0)), link2.Pot)\n",
    "\n",
    "link4 = jointHandler(P_34, P_4c, m_4, r_4, t_4,\n",
    "                     link3.getRotation_w(), [0, 0, 0], d_3,\n",
    "                     link3.getVelocity(), dot(dot(dot(R(t_1), R(t_2)), R(0)), R(t_4)), \n",
    "                     (link3.Pot))"
   ]
  },
  {
   "cell_type": "markdown",
   "metadata": {
    "ExecuteTime": {
     "end_time": "2018-11-30T07:19:57.244927Z",
     "start_time": "2018-11-30T07:19:56.968166Z"
    }
   },
   "source": [
    "## Lagrange "
   ]
  },
  {
   "cell_type": "markdown",
   "metadata": {},
   "source": [
    "### First Parameter"
   ]
  },
  {
   "cell_type": "code",
   "execution_count": 351,
   "metadata": {
    "ExecuteTime": {
     "end_time": "2018-12-01T06:56:06.466268Z",
     "start_time": "2018-12-01T06:56:06.325762Z"
    }
   },
   "outputs": [],
   "source": [
    "M11t = diff(link1.getKinectEnergy(), diff(t_1, t))\n",
    "M11tt = simplify(diff(M11t, t))"
   ]
  },
  {
   "cell_type": "code",
   "execution_count": 352,
   "metadata": {
    "ExecuteTime": {
     "end_time": "2018-12-01T06:56:12.472517Z",
     "start_time": "2018-12-01T06:56:07.088472Z"
    }
   },
   "outputs": [],
   "source": [
    "M22t = diff(link2.getKinectEnergy(), diff(t_2, t))\n",
    "M22tt = simplify(diff(M22t, t))\n",
    "\n",
    "M21t = diff(link2.getKinectEnergy(), diff(t_1, t))\n",
    "M21tt = simplify(diff(M21t, t))"
   ]
  },
  {
   "cell_type": "code",
   "execution_count": 353,
   "metadata": {
    "ExecuteTime": {
     "end_time": "2018-12-01T06:56:20.140297Z",
     "start_time": "2018-12-01T06:56:14.860391Z"
    }
   },
   "outputs": [],
   "source": [
    "M33t = diff(link3.getKinectEnergy(), diff(d_3, t))\n",
    "M33tt = simplify(diff(M33t, t))\n",
    "\n",
    "M32t = diff(link3.getKinectEnergy(), diff(t_2, t))\n",
    "M32tt = simplify(diff(M32t, t))\n",
    "\n",
    "M31t = diff(link3.getKinectEnergy(), diff(t_1, t))\n",
    "M31tt = simplify(diff(M31t, t))"
   ]
  },
  {
   "cell_type": "code",
   "execution_count": 354,
   "metadata": {
    "ExecuteTime": {
     "end_time": "2018-12-01T06:56:41.971889Z",
     "start_time": "2018-12-01T06:56:21.170328Z"
    }
   },
   "outputs": [],
   "source": [
    "M44t = diff(link4.getKinectEnergy(), diff(t_4, t))\n",
    "M44tt = simplify(diff(M44t, t))\n",
    "\n",
    "M44t = diff(link4.getKinectEnergy(), diff(d_3, t))\n",
    "M43tt = simplify(diff(M43t, t))\n",
    "\n",
    "M44t = diff(link4.getKinectEnergy(), diff(t_2, t))\n",
    "M42tt = simplify(diff(M42t, t))\n",
    "\n",
    "M44t = diff(link4.getKinectEnergy(), diff(t_1, t))\n",
    "M41tt = simplify(diff(M41t, t))"
   ]
  },
  {
   "cell_type": "markdown",
   "metadata": {},
   "source": [
    "### Second Paramter"
   ]
  },
  {
   "cell_type": "code",
   "execution_count": 355,
   "metadata": {
    "ExecuteTime": {
     "end_time": "2018-12-01T06:57:24.748464Z",
     "start_time": "2018-12-01T06:57:24.732250Z"
    }
   },
   "outputs": [],
   "source": [
    "X11t = diff(link1.getKinectEnergy(), t_1)"
   ]
  },
  {
   "cell_type": "code",
   "execution_count": 356,
   "metadata": {
    "ExecuteTime": {
     "end_time": "2018-12-01T06:57:25.286323Z",
     "start_time": "2018-12-01T06:57:25.220813Z"
    }
   },
   "outputs": [],
   "source": [
    "X22t = diff(link2.getKinectEnergy(), t_2)\n",
    "X21t = diff(link2.getKinectEnergy(), t_1)"
   ]
  },
  {
   "cell_type": "code",
   "execution_count": 357,
   "metadata": {
    "ExecuteTime": {
     "end_time": "2018-12-01T06:57:25.592100Z",
     "start_time": "2018-12-01T06:57:25.533830Z"
    }
   },
   "outputs": [],
   "source": [
    "X33t = diff(link3.getKinectEnergy(), d_3)\n",
    "X32t = diff(link3.getKinectEnergy(), t_2)\n",
    "X31t = diff(link3.getKinectEnergy(), t_1)"
   ]
  },
  {
   "cell_type": "code",
   "execution_count": 358,
   "metadata": {
    "ExecuteTime": {
     "end_time": "2018-12-01T06:57:26.009224Z",
     "start_time": "2018-12-01T06:57:25.924151Z"
    }
   },
   "outputs": [],
   "source": [
    "X44t = diff(link4.getKinectEnergy(), t_4)\n",
    "X43t = diff(link3.getKinectEnergy(), d_3)\n",
    "X42t = diff(link2.getKinectEnergy(), t_2)\n",
    "X41t = diff(link1.getKinectEnergy(), t_1)"
   ]
  },
  {
   "cell_type": "markdown",
   "metadata": {},
   "source": [
    "### Potential diff"
   ]
  },
  {
   "cell_type": "code",
   "execution_count": 367,
   "metadata": {
    "ExecuteTime": {
     "end_time": "2018-12-01T07:14:30.705069Z",
     "start_time": "2018-12-01T07:14:30.691471Z"
    }
   },
   "outputs": [],
   "source": [
    "V = link1.getPotential() +  link2.getPotential() + \\\n",
    "                                 link3.getPotential() +link4.getPotential()\n",
    "V1 = diff(V, t_1)*g\n",
    "V2 = diff(V, t_2)*g\n",
    "V3 = diff(V, d_3)*g\n",
    "V4 = diff(V, t_4)*g"
   ]
  },
  {
   "cell_type": "code",
   "execution_count": 368,
   "metadata": {
    "ExecuteTime": {
     "end_time": "2018-12-01T07:14:31.323062Z",
     "start_time": "2018-12-01T07:14:31.318384Z"
    }
   },
   "outputs": [],
   "source": [
    "V = np.array([V1, V2, V3, V4]).reshape(4, -1)"
   ]
  },
  {
   "cell_type": "code",
   "execution_count": 369,
   "metadata": {
    "ExecuteTime": {
     "end_time": "2018-12-01T07:14:31.933999Z",
     "start_time": "2018-12-01T07:14:31.923815Z"
    }
   },
   "outputs": [],
   "source": [
    "V = np.array([V1, V2, V3, V4]).reshape(4, -1)\n",
    "X = np.array([X11t+X21t+X31t+X41t, X22t+X32t+X42t, X33t+X43t, X44t]).reshape(4, -1)\n",
    "M = np.array([M11tt+M21tt+M31tt+M41tt, M22tt+M32tt+M42tt, M33tt+M43tt, M44tt]).reshape(4, -1)"
   ]
  },
  {
   "cell_type": "code",
   "execution_count": 375,
   "metadata": {
    "ExecuteTime": {
     "end_time": "2018-12-01T07:16:13.475298Z",
     "start_time": "2018-12-01T07:16:08.550063Z"
    }
   },
   "outputs": [
    {
     "data": {
      "text/plain": [
       "'\\\\left[\\\\begin{matrix}I_{zz2} \\\\frac{d^{2}}{d t^{2}} \\\\theta_{1}{\\\\left (t \\\\right )} + I_{zz2} \\\\frac{d^{2}}{d t^{2}} \\\\theta_{2}{\\\\left (t \\\\right )} + I_{zz3} \\\\frac{d^{2}}{d t^{2}} \\\\theta_{1}{\\\\left (t \\\\right )} + I_{zz3} \\\\frac{d^{2}}{d t^{2}} \\\\theta_{2}{\\\\left (t \\\\right )} + a_{1}^{2} m_{2} \\\\frac{d^{2}}{d t^{2}} \\\\theta_{1}{\\\\left (t \\\\right )} + a_{1}^{2} m_{3} \\\\frac{d^{2}}{d t^{2}} \\\\theta_{1}{\\\\left (t \\\\right )} - 2 a_{1} a_{2} m_{3} \\\\sin{\\\\left (\\\\theta_{2}{\\\\left (t \\\\right )} \\\\right )} \\\\frac{d}{d t} \\\\theta_{1}{\\\\left (t \\\\right )} \\\\frac{d}{d t} \\\\theta_{2}{\\\\left (t \\\\right )} - a_{1} a_{2} m_{3} \\\\sin{\\\\left (\\\\theta_{2}{\\\\left (t \\\\right )} \\\\right )} \\\\left(\\\\frac{d}{d t} \\\\theta_{2}{\\\\left (t \\\\right )}\\\\right)^{2} + 2 a_{1} a_{2} m_{3} \\\\cos{\\\\left (\\\\theta_{2}{\\\\left (t \\\\right )} \\\\right )} \\\\frac{d^{2}}{d t^{2}} \\\\theta_{1}{\\\\left (t \\\\right )} + a_{1} a_{2} m_{3} \\\\cos{\\\\left (\\\\theta_{2}{\\\\left (t \\\\right )} \\\\right )} \\\\frac{d^{2}}{d t^{2}} \\\\theta_{2}{\\\\left (t \\\\right )} - 2 a_{1} m_{2} r_{2} \\\\sin{\\\\left (\\\\theta_{2}{\\\\left (t \\\\right )} \\\\right )} \\\\frac{d}{d t} \\\\theta_{1}{\\\\left (t \\\\right )} \\\\frac{d}{d t} \\\\theta_{2}{\\\\left (t \\\\right )} - a_{1} m_{2} r_{2} \\\\sin{\\\\left (\\\\theta_{2}{\\\\left (t \\\\right )} \\\\right )} \\\\left(\\\\frac{d}{d t} \\\\theta_{2}{\\\\left (t \\\\right )}\\\\right)^{2} + 2 a_{1} m_{2} r_{2} \\\\cos{\\\\left (\\\\theta_{2}{\\\\left (t \\\\right )} \\\\right )} \\\\frac{d^{2}}{d t^{2}} \\\\theta_{1}{\\\\left (t \\\\right )} + a_{1} m_{2} r_{2} \\\\cos{\\\\left (\\\\theta_{2}{\\\\left (t \\\\right )} \\\\right )} \\\\frac{d^{2}}{d t^{2}} \\\\theta_{2}{\\\\left (t \\\\right )} + a_{2}^{2} m_{3} \\\\frac{d^{2}}{d t^{2}} \\\\theta_{1}{\\\\left (t \\\\right )} + a_{2}^{2} m_{3} \\\\frac{d^{2}}{d t^{2}} \\\\theta_{2}{\\\\left (t \\\\right )} + m_{2} r_{2}^{2} \\\\frac{d^{2}}{d t^{2}} \\\\theta_{1}{\\\\left (t \\\\right )} + m_{2} r_{2}^{2} \\\\frac{d^{2}}{d t^{2}} \\\\theta_{2}{\\\\left (t \\\\right )} + m_{4} \\\\left(1.0 a_{1}^{2} \\\\frac{d^{2}}{d t^{2}} \\\\theta_{1}{\\\\left (t \\\\right )} - 2.0 a_{1} a_{2} \\\\sin{\\\\left (\\\\theta_{2}{\\\\left (t \\\\right )} \\\\right )} \\\\frac{d}{d t} \\\\theta_{1}{\\\\left (t \\\\right )} \\\\frac{d}{d t} \\\\theta_{2}{\\\\left (t \\\\right )} - 1.0 a_{1} a_{2} \\\\sin{\\\\left (\\\\theta_{2}{\\\\left (t \\\\right )} \\\\right )} \\\\left(\\\\frac{d}{d t} \\\\theta_{2}{\\\\left (t \\\\right )}\\\\right)^{2} + 2.0 a_{1} a_{2} \\\\cos{\\\\left (\\\\theta_{2}{\\\\left (t \\\\right )} \\\\right )} \\\\frac{d^{2}}{d t^{2}} \\\\theta_{1}{\\\\left (t \\\\right )} + 1.0 a_{1} a_{2} \\\\cos{\\\\left (\\\\theta_{2}{\\\\left (t \\\\right )} \\\\right )} \\\\frac{d^{2}}{d t^{2}} \\\\theta_{2}{\\\\left (t \\\\right )} + 1.0 a_{2}^{2} \\\\frac{d^{2}}{d t^{2}} \\\\theta_{1}{\\\\left (t \\\\right )} + 1.0 a_{2}^{2} \\\\frac{d^{2}}{d t^{2}} \\\\theta_{2}{\\\\left (t \\\\right )}\\\\right) + \\\\left(1.0 I_{zz1} + m_{1} r_{1}^{2}\\\\right) \\\\frac{d^{2}}{d t^{2}} \\\\theta_{1}{\\\\left (t \\\\right )}\\\\end{matrix}\\\\right]'"
      ]
     },
     "execution_count": 375,
     "metadata": {},
     "output_type": "execute_result"
    }
   ],
   "source": [
    "tau = M - X + V\n",
    "latex(simplify(tau[0]))"
   ]
  },
  {
   "cell_type": "code",
   "execution_count": null,
   "metadata": {},
   "outputs": [],
   "source": []
  },
  {
   "cell_type": "code",
   "execution_count": 362,
   "metadata": {
    "ExecuteTime": {
     "end_time": "2018-12-01T06:57:42.422237Z",
     "start_time": "2018-12-01T06:57:42.411900Z"
    }
   },
   "outputs": [
    {
     "data": {
      "text/plain": [
       "array([-d_1*m_1 + m_2*(-d_1 - d_2) + m_3*(-d_1 - d_2 + r_3 - d_3(t)) + m_4*(-d_1 - d_2 + r_3 - d_3(t))],\n",
       "      dtype=object)"
      ]
     },
     "execution_count": 362,
     "metadata": {},
     "output_type": "execute_result"
    }
   ],
   "source": [
    "V = link1.getPotential() +  link2.getPotential() + \\\n",
    "                                 link3.getPotential() +link4.getPotential()\n",
    "V"
   ]
  },
  {
   "cell_type": "code",
   "execution_count": 322,
   "metadata": {
    "ExecuteTime": {
     "end_time": "2018-11-30T10:26:02.092644Z",
     "start_time": "2018-11-30T10:26:02.018439Z"
    }
   },
   "outputs": [
    {
     "data": {
      "text/plain": [
       "array([-d_1*m_1 + m_2*(-d_1 - d_2) + m_3*(-d_1 - d_2 + r_3 - theta_3(t)) + m_4*(-d_1 - d_2 + r_3 - theta_3(t))],\n",
       "      dtype=object)"
      ]
     },
     "execution_count": 322,
     "metadata": {},
     "output_type": "execute_result"
    }
   ],
   "source": []
  },
  {
   "cell_type": "code",
   "execution_count": 323,
   "metadata": {
    "ExecuteTime": {
     "end_time": "2018-11-30T10:26:02.401101Z",
     "start_time": "2018-11-30T10:26:02.095187Z"
    }
   },
   "outputs": [
    {
     "data": {
      "image/png": "[encoded data removed]",
      "text/latex": [
       "$$1$$"
      ],
      "text/plain": [
       "1"
      ]
     },
     "execution_count": 323,
     "metadata": {},
     "output_type": "execute_result"
    }
   ],
   "source": []
  },
  {
   "cell_type": "code",
   "execution_count": 324,
   "metadata": {
    "ExecuteTime": {
     "end_time": "2018-11-30T10:26:02.655098Z",
     "start_time": "2018-11-30T10:26:02.404620Z"
    }
   },
   "outputs": [
    {
     "data": {
      "image/png": "[encoded data removed]",
      "text/latex": [
       "$$0$$"
      ],
      "text/plain": [
       "0"
      ]
     },
     "execution_count": 324,
     "metadata": {},
     "output_type": "execute_result"
    }
   ],
   "source": []
  },
  {
   "cell_type": "code",
   "execution_count": null,
   "metadata": {},
   "outputs": [],
   "source": []
  },
  {
   "cell_type": "code",
   "execution_count": null,
   "metadata": {},
   "outputs": [],
   "source": []
  },
  {
   "cell_type": "code",
   "execution_count": null,
   "metadata": {},
   "outputs": [],
   "source": []
  }
 ],
 "metadata": {
  "hide_input": false,
  "kernelspec": {
   "display_name": "Python 3",
   "language": "python",
   "name": "python3"
  },
  "language_info": {
   "codemirror_mode": {
    "name": "ipython",
    "version": 3
   },
   "file_extension": ".py",
   "mimetype": "text/x-python",
   "name": "python",
   "nbconvert_exporter": "python",
   "pygments_lexer": "ipython3",
   "version": "3.6.5"
  }
 },
 "nbformat": 4,
 "nbformat_minor": 2
}
